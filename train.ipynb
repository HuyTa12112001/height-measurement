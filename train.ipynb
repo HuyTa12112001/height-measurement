{
 "cells": [
  {
   "cell_type": "markdown",
   "metadata": {},
   "source": [
    "2D POSE 1"
   ]
  },
  {
   "cell_type": "code",
   "execution_count": 1,
   "metadata": {},
   "outputs": [
    {
     "name": "stdout",
     "output_type": "stream",
     "text": [
      "coefficient of determination: 0.8434589551956124\n",
      "intercept: 58.47794615685612\n",
      "regression coefficients: [ 1.07533865  1.2476316   0.59605108  0.6496244   0.76927537 -2.13930107]\n",
      "[170.9514246  177.42263631 178.17375559 167.69938207 166.92002534\n",
      " 167.09517774 168.32822325 175.07444638 169.18826794 170.08293752\n",
      " 172.85577297 169.25509052 172.28409762 171.93370073 173.34017574\n",
      " 180.44986211 178.84528921 172.44367625 173.03428736 171.77928909\n",
      " 171.81152628 178.74275911 175.50545178 175.44222891 175.81679281\n",
      " 168.54022429 170.09516349 170.78314081 172.92018878 165.89729792\n",
      " 167.10567736 163.99928653 161.99776665]\n"
     ]
    },
    {
     "name": "stderr",
     "output_type": "stream",
     "text": [
      "c:\\Users\\admin\\AppData\\Local\\Programs\\Python\\Python310\\lib\\site-packages\\sklearn\\base.py:486: UserWarning: X has feature names, but LinearRegression was fitted without feature names\n",
      "  warnings.warn(\n"
     ]
    }
   ],
   "source": [
    "\n",
    "import pandas\n",
    "from sklearn import linear_model\n",
    "\n",
    "df = pandas.read_csv(\"2D_3D_data/2D_pose1/2D_pose1_train.csv\", encoding='ISO-8859-1')\n",
    "\n",
    "\n",
    "x = df[['d1','d2','d3','d4','d5','d6']]\n",
    "y = df['h']\n",
    "\n",
    "X=x.values\n",
    "\n",
    "regr = linear_model.LinearRegression()\n",
    "regr.fit(X, y)\n",
    "r_sq = regr.score(x, y)\n",
    "print(f\"coefficient of determination: {r_sq}\")\n",
    "print(f\"intercept: {regr.intercept_}\")\n",
    "print(f\"regression coefficients: {regr.coef_}\")\n",
    "\n",
    "df2 = pandas.read_csv(\"2D_3D_data/2D_pose1/2D_pose1_test.csv\", encoding='ISO-8859-1')\n",
    "h = df2[['d1','d2','d3','d4','d5','d6']]\n",
    "ha = h.values\n",
    "Height = regr.predict(ha)\n",
    "print(Height)\n",
    "\n",
    "df2['Height_Predict'] = Height\n",
    "df2.to_csv(\"2D_3D_data/2D_pose1/2D_pose1_test.csv\", index=False)"
   ]
  },
  {
   "cell_type": "markdown",
   "metadata": {},
   "source": [
    " 2D POSE 2"
   ]
  },
  {
   "cell_type": "code",
   "execution_count": 2,
   "metadata": {},
   "outputs": [
    {
     "name": "stdout",
     "output_type": "stream",
     "text": [
      "coefficient of determination: 0.755167506216555\n",
      "intercept: 72.2298823399176\n",
      "regression coefficients: [-0.70003005  0.98866088  0.76985497  0.35090296  0.68119476 -0.40682656]\n",
      "[170.34257398 172.89327414 178.74883385 167.0036251  163.21582238\n",
      " 165.64030666 167.31313932 174.82133655 170.10929841 166.29780583\n",
      " 171.95245102 172.65648405 167.92828786 168.66845835 172.92741974\n",
      " 178.425444   177.07532268 170.09501337 174.13320467 172.7418368\n",
      " 171.02581136 175.73143396 176.62571212 174.03683965 170.67189536\n",
      " 164.07619092 168.09650021 172.58871182 170.32592321 163.23662596\n",
      " 167.47327255 164.64390699 162.79546987]\n"
     ]
    },
    {
     "name": "stderr",
     "output_type": "stream",
     "text": [
      "c:\\Users\\admin\\AppData\\Local\\Programs\\Python\\Python310\\lib\\site-packages\\sklearn\\base.py:486: UserWarning: X has feature names, but LinearRegression was fitted without feature names\n",
      "  warnings.warn(\n"
     ]
    }
   ],
   "source": [
    "import pandas\n",
    "from sklearn import linear_model\n",
    "\n",
    "df = pandas.read_csv(\"2D_3D_data/2D_pose2/2D_pose2_train.csv\", encoding='ISO-8859-1')\n",
    "\n",
    "\n",
    "x = df[['d1','d2','d3','d4','d5','d6']]\n",
    "y = df['h']\n",
    "\n",
    "X=x.values\n",
    "\n",
    "regr = linear_model.LinearRegression()\n",
    "regr.fit(X, y)\n",
    "r_sq = regr.score(x, y)\n",
    "print(f\"coefficient of determination: {r_sq}\")\n",
    "print(f\"intercept: {regr.intercept_}\")\n",
    "print(f\"regression coefficients: {regr.coef_}\")\n",
    "\n",
    "df2 = pandas.read_csv(\"2D_3D_data/2D_pose2/2D_pose2_test.csv\", encoding='ISO-8859-1')\n",
    "h = df2[['d1','d2','d3','d4','d5','d6']]\n",
    "ha = h.values\n",
    "Height = regr.predict(ha)\n",
    "print(Height)\n",
    "\n",
    "df2['Height_Predict'] = Height\n",
    "df2.to_csv(\"2D_3D_data/2D_pose2/2D_pose2_test.csv\", index=False)"
   ]
  },
  {
   "cell_type": "markdown",
   "metadata": {},
   "source": [
    "2D POSE 3\n"
   ]
  },
  {
   "cell_type": "code",
   "execution_count": 3,
   "metadata": {},
   "outputs": [
    {
     "name": "stdout",
     "output_type": "stream",
     "text": [
      "coefficient of determination: 0.70217432712596\n",
      "intercept: 73.38456703774384\n",
      "regression coefficients: [ 0.08162038  0.70345667  0.67353882  0.55258515  0.42507086 -0.20956018]\n",
      "[175.10194058 177.88649493 169.28080041 165.90862272 166.59251866\n",
      " 168.01631889 175.65416183 169.43179608 168.17304063 174.25889787\n",
      " 176.07392811 168.2871072  168.52800978 174.29832567 183.21666946\n",
      " 178.13246723 171.73355426 178.32295904 174.76922551 168.78015083\n",
      " 172.88443121 178.1665188  175.14894236 168.60782369 165.56195864\n",
      " 170.92757657 173.90126157 168.21888721 163.8032972  167.89822039\n",
      " 166.2274301  163.38503198]\n"
     ]
    },
    {
     "name": "stderr",
     "output_type": "stream",
     "text": [
      "c:\\Users\\admin\\AppData\\Local\\Programs\\Python\\Python310\\lib\\site-packages\\sklearn\\base.py:486: UserWarning: X has feature names, but LinearRegression was fitted without feature names\n",
      "  warnings.warn(\n"
     ]
    }
   ],
   "source": [
    "import pandas\n",
    "from sklearn import linear_model\n",
    "\n",
    "df = pandas.read_csv(\"2D_3D_data/2D_pose3/2D_pose3_train.csv\", encoding='ISO-8859-1')\n",
    "\n",
    "\n",
    "x = df[['d1','d2','d3','d4','d5','d6']]\n",
    "y = df['h']\n",
    "\n",
    "X=x.values\n",
    "\n",
    "regr = linear_model.LinearRegression()\n",
    "regr.fit(X, y)\n",
    "r_sq = regr.score(x, y)\n",
    "print(f\"coefficient of determination: {r_sq}\")\n",
    "print(f\"intercept: {regr.intercept_}\")\n",
    "print(f\"regression coefficients: {regr.coef_}\")\n",
    "\n",
    "df2 = pandas.read_csv(\"2D_3D_data/2D_pose3/2D_pose3_test.csv\", encoding='ISO-8859-1')\n",
    "h = df2[['d1','d2','d3','d4','d5','d6']]\n",
    "ha = h.values\n",
    "Height = regr.predict(ha)\n",
    "print(Height)\n",
    "\n",
    "df2['Height_Predict'] = Height\n",
    "df2.to_csv(\"2D_3D_data/2D_pose3/2D_pose3_test.csv\", index=False)"
   ]
  },
  {
   "cell_type": "markdown",
   "metadata": {},
   "source": [
    "2D POSE 3 ROTATE"
   ]
  },
  {
   "cell_type": "code",
   "execution_count": 4,
   "metadata": {},
   "outputs": [
    {
     "name": "stdout",
     "output_type": "stream",
     "text": [
      "coefficient of determination: 0.6986584636750439\n",
      "intercept: 82.0853133103782\n",
      "regression coefficients: [0.72969585 0.47395514 0.95905209 0.2447383  0.40146206 0.72258962]\n",
      "[172.79601206 171.40132928 178.95659504 169.51506142 168.2122463\n",
      " 166.25816369 168.69245573 176.05298724 182.9446195  167.85163845\n",
      " 174.02600944 175.32623752 167.36882987 167.28200098 174.98642372\n",
      " 182.12441863 177.39530288 171.22537787 177.77112185 174.91535678\n",
      " 172.17126803 175.42853129 177.01039122 176.71848456 168.86815369\n",
      " 167.7137345  171.50261731 175.83257122 171.93653093 162.57913255\n",
      " 169.58467795 166.05538288 161.30420743]\n"
     ]
    },
    {
     "name": "stderr",
     "output_type": "stream",
     "text": [
      "c:\\Users\\admin\\AppData\\Local\\Programs\\Python\\Python310\\lib\\site-packages\\sklearn\\base.py:486: UserWarning: X has feature names, but LinearRegression was fitted without feature names\n",
      "  warnings.warn(\n"
     ]
    }
   ],
   "source": [
    "import pandas\n",
    "from sklearn import linear_model\n",
    "\n",
    "df = pandas.read_csv(\"2D_3D_data/2D_pose3_rotate/2D_pose3_rotate_train.csv\", encoding='ISO-8859-1')\n",
    "\n",
    "\n",
    "x = df[['d1','d2','d3','d4','d5','d6']]\n",
    "y = df['h']\n",
    "\n",
    "X=x.values\n",
    "\n",
    "regr = linear_model.LinearRegression()\n",
    "regr.fit(X, y)\n",
    "r_sq = regr.score(x, y)\n",
    "print(f\"coefficient of determination: {r_sq}\")\n",
    "print(f\"intercept: {regr.intercept_}\")\n",
    "print(f\"regression coefficients: {regr.coef_}\")\n",
    "\n",
    "df2 = pandas.read_csv(\"2D_3D_data/2D_pose3_rotate/2D_pose3_rotate_test.csv\", encoding='ISO-8859-1')\n",
    "h = df2[['d1','d2','d3','d4','d5','d6']]\n",
    "ha = h.values\n",
    "Height = regr.predict(ha)\n",
    "print(Height)\n",
    "\n",
    "df2['Height_Predict'] = Height\n",
    "df2.to_csv(\"2D_3D_data/2D_pose3_rotate/2D_pose3_rotate_test.csv\", index=False)"
   ]
  },
  {
   "cell_type": "markdown",
   "metadata": {},
   "source": [
    "2D POSE 4\n"
   ]
  },
  {
   "cell_type": "code",
   "execution_count": 5,
   "metadata": {},
   "outputs": [
    {
     "name": "stdout",
     "output_type": "stream",
     "text": [
      "coefficient of determination: 0.6786057199307578\n",
      "intercept: 73.77957153574927\n",
      "regression coefficients: [ 0.36422493  0.81095132  0.58705451  0.58410078  0.35394516 -0.21066217]\n",
      "[169.36609377 173.63272219 178.50038006 163.61607871 163.42228227\n",
      " 168.33688609 168.80047965 175.52618683 170.55486565 168.74436527\n",
      " 173.72738285 176.00418838 169.94628563 168.46847434 175.10933447\n",
      " 182.64749778 178.97960037 172.90426684 178.37410836 173.8974779\n",
      " 172.61411686 172.98355961 175.44629007 175.89755451 169.44668986\n",
      " 166.55275025 171.20134005 174.54817951 169.4225734  164.25973142\n",
      " 167.00250411 165.33233229 164.50556592]\n"
     ]
    },
    {
     "name": "stderr",
     "output_type": "stream",
     "text": [
      "c:\\Users\\admin\\AppData\\Local\\Programs\\Python\\Python310\\lib\\site-packages\\sklearn\\base.py:486: UserWarning: X has feature names, but LinearRegression was fitted without feature names\n",
      "  warnings.warn(\n"
     ]
    }
   ],
   "source": [
    "import pandas\n",
    "from sklearn import linear_model\n",
    "\n",
    "df = pandas.read_csv(\"2D_3D_data/2D_pose4/2D_pose4_train.csv\", encoding='ISO-8859-1')\n",
    "\n",
    "\n",
    "x = df[['d1','d2','d3','d4','d5','d6']]\n",
    "y = df['h']\n",
    "\n",
    "X=x.values\n",
    "\n",
    "regr = linear_model.LinearRegression()\n",
    "regr.fit(X, y)\n",
    "r_sq = regr.score(x, y)\n",
    "print(f\"coefficient of determination: {r_sq}\")\n",
    "print(f\"intercept: {regr.intercept_}\")\n",
    "print(f\"regression coefficients: {regr.coef_}\")\n",
    "\n",
    "df2 = pandas.read_csv(\"2D_3D_data/2D_pose4/2D_pose4_test.csv\", encoding='ISO-8859-1')\n",
    "h = df2[['d1','d2','d3','d4','d5','d6']]\n",
    "ha = h.values\n",
    "Height = regr.predict(ha)\n",
    "print(Height)\n",
    "\n",
    "df2['Height_Predict'] = Height\n",
    "df2.to_csv(\"2D_3D_data/2D_pose4/2D_pose4_test.csv\", index=False)"
   ]
  },
  {
   "cell_type": "markdown",
   "metadata": {},
   "source": [
    "2D POSE 4 ROTATE"
   ]
  },
  {
   "cell_type": "code",
   "execution_count": 6,
   "metadata": {},
   "outputs": [
    {
     "name": "stdout",
     "output_type": "stream",
     "text": [
      "coefficient of determination: 0.6466647225264355\n",
      "intercept: 85.77151866493301\n",
      "regression coefficients: [0.07864519 0.73886341 0.66080412 0.23619752 0.61721078 0.79573002]\n",
      "[168.15396583 171.71019104 177.61137279 169.10656267 164.19728765\n",
      " 167.01617021 171.66070127 177.48539527 170.81730248 169.15281701\n",
      " 173.29935784 175.30881542 168.82776692 167.00559255 174.20506904\n",
      " 183.26594283 175.78628115 172.87556111 178.36849623 177.13284413\n",
      " 173.8043379  175.73229385 176.1986216  177.88253916 171.48346915\n",
      " 167.41071569 172.32588252 174.85317894 171.58119751 165.80707829\n",
      " 167.70210402 165.56549832 162.45322087]\n"
     ]
    },
    {
     "name": "stderr",
     "output_type": "stream",
     "text": [
      "c:\\Users\\admin\\AppData\\Local\\Programs\\Python\\Python310\\lib\\site-packages\\sklearn\\base.py:486: UserWarning: X has feature names, but LinearRegression was fitted without feature names\n",
      "  warnings.warn(\n"
     ]
    }
   ],
   "source": [
    "import pandas\n",
    "from sklearn import linear_model\n",
    "\n",
    "df = pandas.read_csv(\"2D_3D_data/2D_pose4_rotate/2D_pose4_rotate_train.csv\", encoding='ISO-8859-1')\n",
    "\n",
    "\n",
    "x = df[['d1','d2','d3','d4','d5','d6']]\n",
    "y = df['h']\n",
    "\n",
    "X=x.values\n",
    "\n",
    "regr = linear_model.LinearRegression()\n",
    "regr.fit(X, y)\n",
    "r_sq = regr.score(x, y)\n",
    "print(f\"coefficient of determination: {r_sq}\")\n",
    "print(f\"intercept: {regr.intercept_}\")\n",
    "print(f\"regression coefficients: {regr.coef_}\")\n",
    "\n",
    "df2 = pandas.read_csv(\"2D_3D_data/2D_pose4_rotate/2D_pose4_rotate_test.csv\", encoding='ISO-8859-1')\n",
    "h = df2[['d1','d2','d3','d4','d5','d6']]\n",
    "ha = h.values\n",
    "Height = regr.predict(ha)\n",
    "print(Height)\n",
    "\n",
    "df2['Height_Predict'] = Height\n",
    "df2.to_csv(\"2D_3D_data/2D_pose4_rotate/2D_pose4_rotate_test.csv\", index=False)"
   ]
  },
  {
   "cell_type": "markdown",
   "metadata": {},
   "source": [
    "3D POSE 1"
   ]
  },
  {
   "cell_type": "code",
   "execution_count": 7,
   "metadata": {},
   "outputs": [
    {
     "name": "stdout",
     "output_type": "stream",
     "text": [
      "coefficient of determination: 0.7142258475486718\n",
      "intercept: 67.11528278429125\n",
      "regression coefficients: [ 1.70761771 -0.10715637  0.1746012   0.99585158  1.1857188   0.98830653]\n",
      "[170.63717377 174.96763811 175.67465525 168.52144782 167.7681096\n",
      " 170.37248147 172.27941621 175.22983681 168.50803277 167.97086839\n",
      " 172.16871974 173.8376147  173.03984412 168.33692954 175.23110783\n",
      " 173.2417102  173.90145867 173.49902724 173.81489684 169.40189533\n",
      " 167.68450936 178.38991463 178.09624859 175.9661036  171.78079198\n",
      " 167.58036469 171.50421866 172.30257087 176.02608032 169.69732782\n",
      " 172.52794922 168.20785309 160.75416358]\n"
     ]
    },
    {
     "name": "stderr",
     "output_type": "stream",
     "text": [
      "c:\\Users\\admin\\AppData\\Local\\Programs\\Python\\Python310\\lib\\site-packages\\sklearn\\base.py:486: UserWarning: X has feature names, but LinearRegression was fitted without feature names\n",
      "  warnings.warn(\n"
     ]
    }
   ],
   "source": [
    "import pandas\n",
    "from sklearn import linear_model\n",
    "\n",
    "df = pandas.read_csv(\"2D_3D_data/3D_pose1/3D_pose1_train.csv\", encoding='ISO-8859-1')\n",
    "\n",
    "\n",
    "x = df[['d1','d2','d3','d4','d5','d6']]\n",
    "y = df['h']\n",
    "\n",
    "X=x.values\n",
    "\n",
    "regr = linear_model.LinearRegression()\n",
    "regr.fit(X, y)\n",
    "r_sq = regr.score(x, y)\n",
    "print(f\"coefficient of determination: {r_sq}\")\n",
    "print(f\"intercept: {regr.intercept_}\")\n",
    "print(f\"regression coefficients: {regr.coef_}\")\n",
    "\n",
    "df2 = pandas.read_csv(\"2D_3D_data/3D_pose1/3D_pose1_test.csv\", encoding='ISO-8859-1')\n",
    "h = df2[['d1','d2','d3','d4','d5','d6']]\n",
    "ha = h.values\n",
    "Height = regr.predict(ha)\n",
    "print(Height)\n",
    "\n",
    "df2['Height_Predict'] = Height\n",
    "df2.to_csv(\"2D_3D_data/3D_pose1/3D_pose1_test.csv\", index=False)"
   ]
  },
  {
   "cell_type": "markdown",
   "metadata": {},
   "source": [
    "3D POSE 2"
   ]
  },
  {
   "cell_type": "code",
   "execution_count": 8,
   "metadata": {},
   "outputs": [
    {
     "name": "stdout",
     "output_type": "stream",
     "text": [
      "coefficient of determination: 0.6447910126748766\n",
      "intercept: 82.7676718955686\n",
      "regression coefficients: [ 0.7698072   0.11481962 -0.18675888  0.92720031  1.40671076  0.08169046]\n",
      "[171.16519836 170.97324681 180.20776359 171.32521002 169.42468042\n",
      " 163.73489273 170.16863616 171.70765938 171.04760374 167.43929872\n",
      " 172.33514922 176.21885055 171.56018095 173.64010705 175.49994005\n",
      " 176.9034403  172.45945211 173.48607493 176.25789954 173.36961823\n",
      " 171.70932303 169.14652476 174.01543176 173.04735575 167.31084606\n",
      " 170.12514403 170.45779882 169.28426773 163.96541145 166.48692657\n",
      " 168.8776513  167.69200282 165.02919006]\n"
     ]
    },
    {
     "name": "stderr",
     "output_type": "stream",
     "text": [
      "c:\\Users\\admin\\AppData\\Local\\Programs\\Python\\Python310\\lib\\site-packages\\sklearn\\base.py:486: UserWarning: X has feature names, but LinearRegression was fitted without feature names\n",
      "  warnings.warn(\n"
     ]
    }
   ],
   "source": [
    "import pandas\n",
    "from sklearn import linear_model\n",
    "\n",
    "df = pandas.read_csv(\"2D_3D_data/3D_pose2/3D_pose2_train.csv\", encoding='ISO-8859-1')\n",
    "\n",
    "\n",
    "x = df[['d1','d2','d3','d4','d5','d6']]\n",
    "y = df['h']\n",
    "\n",
    "X=x.values\n",
    "\n",
    "regr = linear_model.LinearRegression()\n",
    "regr.fit(X, y)\n",
    "r_sq = regr.score(x, y)\n",
    "print(f\"coefficient of determination: {r_sq}\")\n",
    "print(f\"intercept: {regr.intercept_}\")\n",
    "print(f\"regression coefficients: {regr.coef_}\")\n",
    "\n",
    "df2 = pandas.read_csv(\"2D_3D_data/3D_pose2/3D_pose2_test.csv\", encoding='ISO-8859-1')\n",
    "h = df2[['d1','d2','d3','d4','d5','d6']]\n",
    "ha = h.values\n",
    "Height = regr.predict(ha)\n",
    "print(Height)\n",
    "\n",
    "df2['Height_Predict'] = Height\n",
    "df2.to_csv(\"2D_3D_data/3D_pose2/3D_pose2_test.csv\", index=False)"
   ]
  },
  {
   "cell_type": "markdown",
   "metadata": {},
   "source": [
    "3D POSE 3"
   ]
  },
  {
   "cell_type": "code",
   "execution_count": 9,
   "metadata": {},
   "outputs": [
    {
     "name": "stdout",
     "output_type": "stream",
     "text": [
      "coefficient of determination: 0.5758413529534308\n",
      "intercept: 94.29272621987388\n",
      "regression coefficients: [ 1.60686722 -0.01055555 -0.06336807  0.80815828  0.84391772  0.66974006]\n",
      "[169.63381939 171.31476975 176.92638487 171.56565624 167.3617265\n",
      " 164.60689565 172.6006629  174.96769581 167.77897036 169.86011323\n",
      " 174.51296259 175.4883045  166.70941976 168.83664321 174.77085895\n",
      " 178.62899793 173.13427877 168.56974419 174.82017961 174.50300605\n",
      " 170.10971874 170.09359051 174.00264353 173.1036825  167.36418434\n",
      " 165.42415438 170.54798869 177.06361756 168.025592   164.27062038\n",
      " 168.84406554 169.11839296 162.65487765]\n"
     ]
    },
    {
     "name": "stderr",
     "output_type": "stream",
     "text": [
      "c:\\Users\\admin\\AppData\\Local\\Programs\\Python\\Python310\\lib\\site-packages\\sklearn\\base.py:486: UserWarning: X has feature names, but LinearRegression was fitted without feature names\n",
      "  warnings.warn(\n"
     ]
    }
   ],
   "source": [
    "import pandas\n",
    "from sklearn import linear_model\n",
    "\n",
    "df = pandas.read_csv(\"2D_3D_data/3D_pose3/3D_pose3_train.csv\", encoding='ISO-8859-1')\n",
    "\n",
    "\n",
    "x = df[['d1','d2','d3','d4','d5','d6']]\n",
    "y = df['h']\n",
    "\n",
    "X=x.values\n",
    "\n",
    "regr = linear_model.LinearRegression()\n",
    "regr.fit(X, y)\n",
    "r_sq = regr.score(x, y)\n",
    "print(f\"coefficient of determination: {r_sq}\")\n",
    "print(f\"intercept: {regr.intercept_}\")\n",
    "print(f\"regression coefficients: {regr.coef_}\")\n",
    "\n",
    "df2 = pandas.read_csv(\"2D_3D_data/3D_pose3/3D_pose3_test.csv\", encoding='ISO-8859-1')\n",
    "h = df2[['d1','d2','d3','d4','d5','d6']]\n",
    "ha = h.values\n",
    "Height = regr.predict(ha)\n",
    "print(Height)\n",
    "\n",
    "df2['Height_Predict'] = Height\n",
    "df2.to_csv(\"2D_3D_data/3D_pose3/3D_pose3_test.csv\", index=False)"
   ]
  },
  {
   "cell_type": "markdown",
   "metadata": {},
   "source": [
    "3D POSE 3 ROTATE"
   ]
  },
  {
   "cell_type": "code",
   "execution_count": 10,
   "metadata": {},
   "outputs": [
    {
     "name": "stdout",
     "output_type": "stream",
     "text": [
      "coefficient of determination: 0.5234001535117024\n",
      "intercept: 96.41347776560723\n",
      "regression coefficients: [ 2.77267314  0.51050599 -0.49015385  0.74833531  0.5469119  -0.42077713]\n",
      "[169.42449482 168.11144374 178.29171829 169.52119243 165.57625799\n",
      " 166.31932695 168.9310859  174.74952051 175.70888915 166.39102593\n",
      " 173.25783554 176.8967374  168.04151503 167.5931809  174.01820552\n",
      " 179.24818717 172.54818019 167.14598306 175.36943797 173.44075249\n",
      " 173.0352039  173.43772179 170.99614936 174.85943138 167.03489064\n",
      " 167.06824996 170.2432621  168.57116418 172.76175631 167.24155339\n",
      " 164.76138188 165.94513992 163.11238122]\n"
     ]
    },
    {
     "name": "stderr",
     "output_type": "stream",
     "text": [
      "c:\\Users\\admin\\AppData\\Local\\Programs\\Python\\Python310\\lib\\site-packages\\sklearn\\base.py:486: UserWarning: X has feature names, but LinearRegression was fitted without feature names\n",
      "  warnings.warn(\n"
     ]
    }
   ],
   "source": [
    "import pandas\n",
    "from sklearn import linear_model\n",
    "\n",
    "df = pandas.read_csv(\"2D_3D_data/3D_pose3_rotate/3D_pose3_rotate_train.csv\", encoding='ISO-8859-1')\n",
    "\n",
    "\n",
    "x = df[['d1','d2','d3','d4','d5','d6']]\n",
    "y = df['h']\n",
    "\n",
    "X=x.values\n",
    "\n",
    "regr = linear_model.LinearRegression()\n",
    "regr.fit(X, y)\n",
    "r_sq = regr.score(x, y)\n",
    "print(f\"coefficient of determination: {r_sq}\")\n",
    "print(f\"intercept: {regr.intercept_}\")\n",
    "print(f\"regression coefficients: {regr.coef_}\")\n",
    "\n",
    "df2 = pandas.read_csv(\"2D_3D_data/3D_pose3_rotate/3D_pose3_rotate_test.csv\", encoding='ISO-8859-1')\n",
    "h = df2[['d1','d2','d3','d4','d5','d6']]\n",
    "ha = h.values\n",
    "Height = regr.predict(ha)\n",
    "print(Height)\n",
    "\n",
    "df2['Height_Predict'] = Height\n",
    "df2.to_csv(\"2D_3D_data/3D_pose3_rotate/3D_pose3_rotate_test.csv\", index=False)"
   ]
  },
  {
   "cell_type": "markdown",
   "metadata": {},
   "source": [
    "3D POSE 4"
   ]
  },
  {
   "cell_type": "code",
   "execution_count": 11,
   "metadata": {},
   "outputs": [
    {
     "name": "stdout",
     "output_type": "stream",
     "text": [
      "coefficient of determination: 0.5410370412639525\n",
      "intercept: 85.9026476058287\n",
      "regression coefficients: [ 0.8808155   0.11720256 -0.14388687  1.01314507  0.64350576  0.89028505]\n",
      "[169.94041602 171.02828351 174.85950284 160.95087678 162.3084388\n",
      " 168.63042502 171.27165229 174.94201908 172.39518529 169.75676918\n",
      " 175.55183117 176.34209115 169.56649371 165.70052501 172.6318171\n",
      " 178.58981038 176.59710465 170.50283051 176.45041158 172.65329167\n",
      " 169.36112383 174.07402645 177.06862692 172.80509536 165.79903431\n",
      " 170.45305083 172.73354785 167.70131637 165.36814646 169.66987606\n",
      " 162.33780242 166.06663583]\n"
     ]
    },
    {
     "name": "stderr",
     "output_type": "stream",
     "text": [
      "c:\\Users\\admin\\AppData\\Local\\Programs\\Python\\Python310\\lib\\site-packages\\sklearn\\base.py:486: UserWarning: X has feature names, but LinearRegression was fitted without feature names\n",
      "  warnings.warn(\n"
     ]
    }
   ],
   "source": [
    "import pandas\n",
    "from sklearn import linear_model\n",
    "\n",
    "df = pandas.read_csv(\"2D_3D_data/3D_pose4/3D_pose4_train.csv\", encoding='ISO-8859-1')\n",
    "\n",
    "\n",
    "x = df[['d1','d2','d3','d4','d5','d6']]\n",
    "y = df['h']\n",
    "\n",
    "X=x.values\n",
    "\n",
    "regr = linear_model.LinearRegression()\n",
    "regr.fit(X, y)\n",
    "r_sq = regr.score(x, y)\n",
    "print(f\"coefficient of determination: {r_sq}\")\n",
    "print(f\"intercept: {regr.intercept_}\")\n",
    "print(f\"regression coefficients: {regr.coef_}\")\n",
    "\n",
    "df2 = pandas.read_csv(\"2D_3D_data/3D_pose4/3D_pose4_test.csv\", encoding='ISO-8859-1')\n",
    "h = df2[['d1','d2','d3','d4','d5','d6']]\n",
    "ha = h.values\n",
    "Height = regr.predict(ha)\n",
    "print(Height)\n",
    "\n",
    "df2['Height_Predict'] = Height\n",
    "df2.to_csv(\"2D_3D_data/3D_pose4/3D_pose4_test.csv\", index=False)"
   ]
  },
  {
   "cell_type": "markdown",
   "metadata": {},
   "source": [
    "3D POSE 4 ROTATE"
   ]
  },
  {
   "cell_type": "code",
   "execution_count": 12,
   "metadata": {},
   "outputs": [
    {
     "name": "stdout",
     "output_type": "stream",
     "text": [
      "coefficient of determination: 0.5064818994901332\n",
      "intercept: 87.82777511385726\n",
      "regression coefficients: [ 1.84561778  0.1466283  -0.19707113  0.97680508  0.67030179  0.23695497]\n",
      "[168.86266259 170.60976986 175.01187097 159.65298601 160.38879561\n",
      " 168.59325552 169.85816235 171.04722393 169.02416963 168.93568251\n",
      " 173.24206247 173.6345551  170.18086909 164.15612324 173.85353973\n",
      " 180.28436477 172.77233133 168.16001905 175.84220881 172.33072049\n",
      " 168.07246267 172.13737448 173.73742427 171.74788453 172.55072889\n",
      " 167.98033781 169.98880585 172.3595729  168.84986981 164.36323361\n",
      " 169.91698858 163.65590392 165.30498532]\n"
     ]
    },
    {
     "name": "stderr",
     "output_type": "stream",
     "text": [
      "c:\\Users\\admin\\AppData\\Local\\Programs\\Python\\Python310\\lib\\site-packages\\sklearn\\base.py:486: UserWarning: X has feature names, but LinearRegression was fitted without feature names\n",
      "  warnings.warn(\n"
     ]
    }
   ],
   "source": [
    "import pandas\n",
    "from sklearn import linear_model\n",
    "\n",
    "df = pandas.read_csv(\"2D_3D_data/3D_pose4_rotate/3D_pose4_rotate_train.csv\", encoding='ISO-8859-1')\n",
    "\n",
    "\n",
    "x = df[['d1','d2','d3','d4','d5','d6']]\n",
    "y = df['h']\n",
    "\n",
    "X=x.values\n",
    "\n",
    "regr = linear_model.LinearRegression()\n",
    "regr.fit(X, y)\n",
    "r_sq = regr.score(x, y)\n",
    "print(f\"coefficient of determination: {r_sq}\")\n",
    "print(f\"intercept: {regr.intercept_}\")\n",
    "print(f\"regression coefficients: {regr.coef_}\")\n",
    "\n",
    "df2 = pandas.read_csv(\"2D_3D_data/3D_pose4_rotate/3D_pose4_rotate_test.csv\", encoding='ISO-8859-1')\n",
    "h = df2[['d1','d2','d3','d4','d5','d6']]\n",
    "ha = h.values\n",
    "Height = regr.predict(ha)\n",
    "print(Height)\n",
    "\n",
    "df2['Height_Predict'] = Height\n",
    "df2.to_csv(\"2D_3D_data/3D_pose4_rotate/3D_pose4_rotate_test.csv\", index=False)"
   ]
  }
 ],
 "metadata": {
  "kernelspec": {
   "display_name": "Python 3",
   "language": "python",
   "name": "python3"
  },
  "language_info": {
   "codemirror_mode": {
    "name": "ipython",
    "version": 3
   },
   "file_extension": ".py",
   "mimetype": "text/x-python",
   "name": "python",
   "nbconvert_exporter": "python",
   "pygments_lexer": "ipython3",
   "version": "3.10.9"
  }
 },
 "nbformat": 4,
 "nbformat_minor": 2
}
